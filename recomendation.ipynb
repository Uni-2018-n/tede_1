{
 "metadata": {
  "language_info": {
   "codemirror_mode": {
    "name": "ipython",
    "version": 3
   },
   "file_extension": ".py",
   "mimetype": "text/x-python",
   "name": "python",
   "nbconvert_exporter": "python",
   "pygments_lexer": "ipython3",
   "version": "3.8.0"
  },
  "orig_nbformat": 2,
  "kernelspec": {
   "name": "python380jvsc74a57bd0767d51c1340bd893661ea55ea3124f6de3c7a262a8b4abca0554b478b1e2ff90",
   "display_name": "Python 3.8.0 64-bit"
  },
  "metadata": {
   "interpreter": {
    "hash": "767d51c1340bd893661ea55ea3124f6de3c7a262a8b4abca0554b478b1e2ff90"
   }
  }
 },
 "nbformat": 4,
 "nbformat_minor": 2,
 "cells": [
  {
   "cell_type": "code",
   "execution_count": 10,
   "metadata": {},
   "outputs": [],
   "source": [
    "import pandas as pd\n",
    "import matplotlib.pyplot as plt\n",
    "from sklearn.feature_extraction.text import TfidfVectorizer\n",
    "from sklearn.feature_extraction.text import CountVectorizer\n",
    "from scipy.spatial import distance\n",
    "\n",
    "netflix = pd.read_csv('data/netflix_titles.csv')\n",
    "\n",
    "descriptions = netflix[netflix['type'] == 'Movie']['description']\n",
    "titles = netflix[netflix['type'] == 'Movie']['title']\n",
    "show_ids = netflix[netflix['type'] == 'Movie']['show_id'].tolist()\n",
    "\n",
    "# tfIdfV = TfidfVectorizer(ngram_range=(1,2), stop_words='english', use_idf=True)\n",
    "tfIdfV = TfidfVectorizer(use_idf=True, stop_words='english', max_df=0.8, min_df=2, strip_accents='ascii', max_features=5000)\n",
    "\n",
    "tfIdf_descriptions = tfIdfV.fit_transform(descriptions).toarray()\n",
    "tfIdf_titles = tfIdfV.fit_transform(titles).toarray()"
   ]
  },
  {
   "cell_type": "code",
   "execution_count": 11,
   "metadata": {},
   "outputs": [
    {
     "output_type": "stream",
     "name": "stdout",
     "text": [
      "CPU times: user 25min 33s, sys: 3.69 s, total: 25min 37s\nWall time: 25min 37s\n"
     ]
    }
   ],
   "source": [
    "%%time\n",
    "dictio = {}\n",
    "for i in range(len(tfIdf_descriptions)):\n",
    "    dictio[show_ids[i]] = []\n",
    "    for j in range(len(tfIdf_descriptions)):\n",
    "        if(i==j):\n",
    "            continue\n",
    "        dictio[show_ids[i]].append((distance.cosine(tfIdf_descriptions[i],tfIdf_descriptions[j]), show_ids[j]))"
   ]
  },
  {
   "cell_type": "code",
   "execution_count": 12,
   "metadata": {},
   "outputs": [
    {
     "output_type": "execute_result",
     "data": {
      "text/plain": [
       "(5377, 5000)"
      ]
     },
     "metadata": {},
     "execution_count": 12
    }
   ],
   "source": [
    "\n",
    "tfIdf_descriptions.shape\n",
    "\n",
    "\n",
    "\n",
    "\n",
    "\n",
    "\n",
    "\n",
    "\n",
    "\n",
    "\n",
    "\n",
    "\n",
    "\n"
   ]
  },
  {
   "cell_type": "code",
   "execution_count": null,
   "metadata": {},
   "outputs": [],
   "source": []
  }
 ]
}